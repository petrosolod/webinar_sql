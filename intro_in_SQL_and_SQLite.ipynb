{
 "cells": [
  {
   "cell_type": "markdown",
   "metadata": {
    "pycharm": {
     "name": "#%% md\n"
    }
   },
   "source": [
    "## Введення в реляційні бази даних.\n",
    "## SQLite + Python\n",
    "\n",
    "---\n"
   ]
  },
  {
   "cell_type": "markdown",
   "metadata": {
    "pycharm": {
     "name": "#%% md\n"
    }
   },
   "source": [
    "### Введення в реляційні бази даних\n",
    "\n",
    "[База даних (БД, DataBase, DB)](https://uk.wikipedia.org/wiki/%D0%91%D0%B0%D0%B7%D0%B0_%D0%B4%D0%B0%D0%BD%D0%B8%D1%85) - це набір взаємно пов'язаних даних.\n",
    "\n",
    "[Система управляння базами даних (СУБД, СКБД англ. Database Management System, DBMS)](https://uk.wikipedia.org/wiki/%D0%A1%D0%B8%D1%81%D1%82%D0%B5%D0%BC%D0%B0_%D1%83%D0%BF%D1%80%D0%B0%D0%B2%D0%BB%D1%96%D0%BD%D0%BD%D1%8F_%D0%B1%D0%B0%D0%B7%D0%B0%D0%BC%D0%B8_%D0%B4%D0%B0%D0%BD%D0%B8%D1%85) - комплекс програмних засобів для керування даними.\n",
    "\n",
    "СУБД - відповідає за підтримку мови БД, організацію створення БД, внесення даних, збереження, маніпулювання даними, оптимізацію процесів роботи з даними й т.ін.\n",
    "\n"
   ]
  },
  {
   "cell_type": "markdown",
   "metadata": {
    "pycharm": {
     "name": "#%% md\n"
    }
   },
   "source": [
    "![які бувають БД](./media/database.png)\n",
    "\n",
    "---\n",
    "\n",
    "Не реляційні СУБД з'явилися дуже давно - і з деякими з них ви напевне знайомі. Приклад ієрархічної організації даних (докладніше - [тут](https://uk.wikipedia.org/wiki/%D0%86%D1%94%D1%80%D0%B0%D1%80%D1%85%D1%96%D1%87%D0%BD%D0%B0_%D0%BC%D0%BE%D0%B4%D0%B5%D0%BB%D1%8C_%D0%B4%D0%B0%D0%BD%D0%B8%D1%85#:~:text=%D0%86%D1%94%D1%80%D0%B0%D1%80%D1%85%D1%96%D1%87%D0%BD%D0%B0%20%D0%BC%D0%BE%D0%B4%D0%B5%D0%BB%D1%8C%20%D0%B4%D0%B0%D0%BD%D0%B8%D1%85%20%E2%80%94%20%D1%86%D0%B5%20%D0%BC%D0%BE%D0%B4%D0%B5%D0%BB%D1%8C,%D0%BE%D0%B1'%D1%94%D0%BA%D1%82%D1%96%D0%B2%20%D0%B1%D1%96%D0%BB%D1%8C%D1%88%20%D0%BD%D0%B8%D0%B7%D1%8C%D0%BA%D0%BE%D0%B3%D0%BE%20%D1%80%D1%96%D0%B2%D0%BD%D1%8F.)) - каталог бібліотеки. Або - приклад нижче\n",
    "\n",
    "---\n",
    "\n",
    "![ієрарчічна модель даних](./media/ierarch_db.jpg)\n",
    "\n",
    "---\n",
    "\n",
    "Мережеві моделі даних - розвиток ієрархічної моделі. Відмінність - вузол може бути нащадком не одного предка, а будь-скількох. Це на каша, а досить складна і сувора математична теорія). Докладніше - [тут](https://uk.wikipedia.org/wiki/%D0%9C%D0%B5%D1%80%D0%B5%D0%B6%D0%B5%D0%B2%D0%B0_%D0%BC%D0%BE%D0%B4%D0%B5%D0%BB%D1%8C_%D0%B4%D0%B0%D0%BD%D0%B8%D1%85).\n",
    "\n",
    "Структурно це може виглядати так:\n",
    "\n",
    "---\n",
    "\n",
    "![мережева модель даних](./media/net_model_db.jpeg)"
   ]
  },
  {
   "cell_type": "markdown",
   "metadata": {
    "pycharm": {
     "name": "#%% md\n"
    }
   },
   "source": [
    "Але сьогодні ми розмовляємо про [реляційні бази даних](https://uk.wikipedia.org/wiki/%D0%A0%D0%B5%D0%BB%D1%8F%D1%86%D1%96%D0%B9%D0%BD%D0%B0_%D0%B1%D0%B0%D0%B7%D0%B0_%D0%B4%D0%B0%D0%BD%D0%B8%D1%85).\n",
    "\n",
    "Теоретичною базою реляційних СУБД є [реляційна алгебра](https://uk.wikipedia.org/wiki/%D0%A0%D0%B5%D0%BB%D1%8F%D1%86%D1%96%D0%B9%D0%BD%D0%B0_%D0%B0%D0%BB%D0%B3%D0%B5%D0%B1%D1%80%D0%B0)\n",
    "\n",
    "Досить проста презентація, яка демонструє базові інструменти - [тут](https://ppt-online.org/557751)\n",
    "\n",
    "Лекція про множини і операції з ними, яка нагадає Вам роботу дуже схожих операцій - [тут](https://www.youtube.com/watch?v=xMW1x3i6D44&list=PLOlyZEVllXBHso6SasmoJdNWVO63573RN&index=6). Дивіться останню третину лекції.\n",
    "\n",
    "---\n",
    "\n",
    "![демонстрація деяких операцій реляційної алгебри](./media/relaton_alg.png)\n",
    "\n",
    "___\n",
    "\n",
    "Реляційна алгебра визначає комплекс операцій з відношеннями (таблицями): поєднання, різницю, перетин ...\n",
    "\n",
    "Всі ці операції можуть біти виражені через мову SQL, що ми і будемо з Вами робити.\n",
    "\n",
    "Терміни:\n",
    "- сутність - те, що ми описуємо (якийсь конкретний товар, якась конкретна людина, замовлення і т. ін.).\n",
    "- таблиця (відношення) - це множина якихось сутностей\n",
    "- стовпчик таблиці - атрибут - один з параметрів якими ми описуємо сутності\n",
    "- рядок таблиці (запис, кортеж) - набір атрибутів з конкретними значеннями.\n",
    "- фінальний набір - результат запиту SQL. Завжди таблиця (навіть коли результат - просте число).\n",
    "\n",
    "таблиці (стовпці - атрибути, рядки - сутності (дані), шапка таблиці - імена атрибутів)\n",
    "\n",
    "---\n",
    "\n",
    "### Коротко - що таке SQL\n",
    "\n",
    "SQL - спеціалізована непроцедурна мова програмування.\n",
    "\n",
    "SQL стандартизований. Діючий стандарт - ANSI SQL-92. Як правило, різні БД підтримують цей стандарт і додають свої розширення (свій діалект).\n",
    "\n",
    "Складається з декількох груп операторів:\n",
    "- DDL (Data Definition Language) - CREATE, DROP, ALTER\n",
    "- DML (Data Manipulation Language) - SELECT, INSERT, UPDATE, DELETE\n",
    "- TCL (Transaction Control Language) - COMMIT, ROLLBACK, SAVEPOINT\n",
    "- DCL (Data Control Language) - GRANT, REVOKE, DENY\n",
    "\n",
    "\n"
   ]
  },
  {
   "cell_type": "markdown",
   "metadata": {
    "pycharm": {
     "name": "#%% md\n"
    }
   },
   "source": [
    "### Світ SQL баз даних - досить широкий і неоднорідний\n",
    "\n",
    "[За архітектурою побудови](http://um.co.ua/9/9-3/9-30541.html):\n",
    "- вбудовані (SQLite)\n",
    "- [клієнт-серверні](https://stud.com.ua/97304/informatika/kliyent_serverni_sistemi) (PostgreSQL, MySQL, ...)\n",
    "- файл-серверні (Microsoft Access)\n",
    "\n",
    "#### Приклади популярних клієнт-серверних СУБД:\n",
    "\n",
    "- MySQL\n",
    "- PostgreSQL\n",
    "- Oracle\n",
    "- MS SQL\n",
    "- MariaDB"
   ]
  },
  {
   "cell_type": "markdown",
   "metadata": {
    "pycharm": {
     "name": "#%% md\n"
    }
   },
   "source": [
    "## SQLite + Python\n",
    "\n"
   ]
  },
  {
   "cell_type": "markdown",
   "metadata": {
    "pycharm": {
     "name": "#%% md\n"
    }
   },
   "source": [
    "ми створимо невелику БД, як часто роблять в прикладах - програми соціальної мережи. Ми маємо користувачів (users) із своїми атрибутами. Користувачі можуть писати пости (posts), які також мають свої атрибути, та можуть писати коментарі до постів (comments). Користувачі можуть ставити лайки постам, які їм сподобалися (likes). У користувачів є атрибути, яких може бути не по одному - emails. Так як їх може бути не по одному - вони винесені в окрему таблицю. Пропоную Вам самім розібратися - яким правилам нормалізації БД це відповідає.\n",
    "\n",
    "Я буду оминати сьогодні таку тему як \"нормалізація баз даних\" - в межах короткого курсу все це досить важко викласти. Розумійте нормалізацію як процес розділення складних таблиць на більш прості з утворенням зв'язків між ціми простими таблицями. Це дозволяє СУБД контролювати цілістність даних і уникати колізій. А також мати дані в біль компактному вигляді. Ц робиться на базі абсолютно чітких математичних правил і визначень, але досить зрозумілих і логічних, якщо вникнути.\n",
    "\n",
    "Докладніше про це математичною мовою - [тут](https://uk.wikipedia.org/wiki/%D0%9D%D0%BE%D1%80%D0%BC%D0%B0%D0%BB%D1%96%D0%B7%D0%B0%D1%86%D1%96%D1%8F_%D0%B1%D0%B0%D0%B7_%D0%B4%D0%B0%D0%BD%D0%B8%D1%85).\n",
    "\n",
    "Докладніше про це простішою мовою - [тут](https://uk.myservername.com/database-normalization-tutorial).\n",
    "\n"
   ]
  },
  {
   "cell_type": "markdown",
   "metadata": {
    "pycharm": {
     "name": "#%% md\n"
    }
   },
   "source": [
    "![ER diagram for DB](./media/ERdiagram_for_lesson_SQL.png)"
   ]
  },
  {
   "cell_type": "markdown",
   "metadata": {
    "pycharm": {
     "name": "#%% md\n"
    }
   },
   "source": [
    "Ви бачите ER-діаграму нашої бази даних. Докладніше про те, що це таке і які правила їх складання - дивіться [тут](https://uk.wikipedia.org/wiki/%D0%9C%D0%BE%D0%B4%D0%B5%D0%BB%D1%8C_%C2%AB%D1%81%D1%83%D1%82%D0%BD%D1%96%D1%81%D1%82%D1%8C_%E2%80%94_%D0%B7%D0%B2%27%D1%8F%D0%B7%D0%BE%D0%BA%C2%BB).\n",
    "\n",
    "Існує декілька типів зв'язків між сутностями:\n",
    "- \"один до одного\"\n",
    "- \"один до багатьох\"\n",
    "- \"багато до багатьох\"\n",
    "\n",
    "Розберемо - які зв'язки в нашій базі даних:\n",
    "\n",
    "Обидва users і posts матимуть зв'язок «один до багатьох », оскільки один користувач може лайкати багато публікацій. Подібним чином один користувач може опублікувати багато коментарів, і одна публікація також може мати кілька коментарів. Отже, обидва usersі posts також матимуть зв’язки «один-до-багатьох» із comments таблицею. Це також стосується likes таблиці, тому обидва users і posts матимуть зв’язок «один до багатьох» із likes таблицею. Також users може мати не один email, тому там також буде зв'язок \"один-до-багатьох\".\n",
    "\n",
    "---\n",
    "\n",
    "Ми з Вами сьогодні працюємо з БД SQLite.  Докладніше про саму цю СУБД - [тут](https://www.sqlite.org/index.html).\n",
    "\n",
    "### Використання вбудованої бібліотеки Python sqlite3 для роботи з БД SQLite.\n",
    "\n",
    "SQLite, мабуть, є найпростішою базою даних для підключення до програми Python, оскільки для цього не потрібно встановлювати жодних зовнішніх модулів Python SQL. За замовчуванням ваша інсталяція Python містить бібліотеку Python SQL під назвою sqlite3, яку можна використовувати для взаємодії з базою даних SQLite.\n",
    "\n",
    "Більше того, бази даних SQLite є автономними та безсерверними , оскільки вони читають і записують дані у файл. Це означає, що, на відміну від MySQL і PostgreSQL, вам навіть не потрібно встановлювати та запускати сервер SQLite для виконання операцій з базою даних!\n",
    "\n",
    "Підключимось до БД:"
   ]
  },
  {
   "cell_type": "code",
   "execution_count": 1,
   "metadata": {
    "pycharm": {
     "name": "#%%\n"
    }
   },
   "outputs": [],
   "source": [
    "import sqlite3\n",
    "from sqlite3 import Error\n",
    "\n",
    "def create_connection(path):\n",
    "    connection = None\n",
    "    try:\n",
    "        connection = sqlite3.connect(path)\n",
    "        print(\"Connection to SQLite DB successful\")\n",
    "    except Error as e:\n",
    "        print(f\"The error '{e}' occurred\")\n",
    "\n",
    "    return connection"
   ]
  },
  {
   "cell_type": "markdown",
   "metadata": {
    "pycharm": {
     "name": "#%% md\n"
    }
   },
   "source": [
    "Ось як працює цей код:\n",
    "\n",
    "Рядки 1 і 2 імпортують і клас sqlite3модуля .Error\n",
    "Рядок 4 визначає функцію .create_connection(), яка приймає шлях до бази даних SQLite.\n",
    "Рядок 7 використовує .connect()з sqlite3модуля та приймає шлях до бази даних SQLite як параметр. Якщо база даних існує у вказаному місці, тоді встановлюється з’єднання з базою даних. В іншому випадку у вказаному місці створюється нова база даних і встановлюється з’єднання.\n",
    "Рядок 8 друкує статус успішного підключення до бази даних.\n",
    "Рядок 9 вловлює будь-які винятки , які можуть бути викинуті, якщо .connect()не вдається встановити з'єднання.\n",
    "Рядок 10 відображає повідомлення про помилку в консолі.\n",
    "sqlite3.connect(path)повертає connectionоб’єкт, який, у свою чергу, повертає create_connection(). Цей connectionоб’єкт можна використовувати для виконання запитів до бази даних SQLite. Наступний сценарій створює підключення до бази даних SQLite:"
   ]
  },
  {
   "cell_type": "code",
   "execution_count": null,
   "metadata": {
    "pycharm": {
     "name": "#%%\n"
    }
   },
   "outputs": [],
   "source": [
    "connection = create_connection(\"./data/sqliteDB\")"
   ]
  },
  {
   "cell_type": "markdown",
   "metadata": {
    "pycharm": {
     "name": "#%% md\n"
    }
   },
   "source": [
    "Після виконання наведеного вище сценарію ви побачите, що файл бази даних sqliteDB створено у відповідному каталозі, якщо до цього його не існувало.\n",
    "\n",
    "Зауважте, що ви можете змінити розташування відповідно до ваших налаштувань.\n",
    "\n",
    "[Документація модуля sqlite3 з прикладами](https://docs.python.org/3/library/sqlite3.html)\n",
    "\n",
    "---\n",
    "\n",
    "### Створення таблиць.\n",
    "\n",
    "Щоб виконувати запити в SQLite, використовуйте cursor.execute(). У цьому розділі ви визначите функцію execute_query(), яка використовує цей метод. Ваша функція прийме connection об’єкт і рядок запиту, який ви передасте cursor.execute().\n",
    "\n",
    "connection.execute()може виконувати будь-який запит, переданий йому у вигляді рядка. Ми будемо використовувати цей метод для створення таблиць у цьому розділі. У наступних розділах ви також використовуватимете цей самий метод для виконання запитів на оновлення та видалення.\n",
    "\n",
    "[Докладніше про типи даних в SQLite](https://www.sqlite.org/datatype3.html)\n",
    "\n",
    "[Докладніше про команду CREATE TABLE](https://www.sqlite.org/lang_createtable.html)\n",
    "\n"
   ]
  },
  {
   "cell_type": "code",
   "execution_count": null,
   "metadata": {
    "pycharm": {
     "name": "#%%\n"
    }
   },
   "outputs": [],
   "source": [
    "def execute_query(connection, query):\n",
    "    cursor = connection.cursor()\n",
    "    try:\n",
    "        cursor.execute(query)\n",
    "        connection.commit()\n",
    "        print(\"Query executed successfully\")\n",
    "    except Error as e:\n",
    "        print(f\"The error '{e}' occurred\")"
   ]
  },
  {
   "cell_type": "markdown",
   "metadata": {
    "pycharm": {
     "name": "#%% md\n"
    }
   },
   "source": [
    "Цей код намагається виконати задане query та друкує повідомлення про помилку, якщо необхідно.\n",
    "\n",
    "Далі пишемо запит:"
   ]
  },
  {
   "cell_type": "code",
   "execution_count": null,
   "metadata": {
    "pycharm": {
     "name": "#%%\n"
    }
   },
   "outputs": [],
   "source": [
    "create_users_table = \"\"\"\n",
    "CREATE TABLE IF NOT EXISTS users (\n",
    "  id INTEGER PRIMARY KEY AUTOINCREMENT,\n",
    "  name TEXT NOT NULL,\n",
    "  age INTEGER,\n",
    "  gender TEXT,\n",
    "  nationality TEXT\n",
    ");\n",
    "\"\"\""
   ]
  },
  {
   "cell_type": "markdown",
   "metadata": {
    "pycharm": {
     "name": "#%% md\n"
    }
   },
   "source": [
    "Це говорить про створення таблиці users з такими п’ятьма стовпцями:\n",
    "\n",
    "- id\n",
    "- name\n",
    "- age\n",
    "- gender\n",
    "- nationality\n",
    "Ми визиваємо execute_query() для створення таблиці. Ми передаємо connection об’єкт, створений у попередньому розділі, разом із create_users_table рядком, який містить запит на створення таблиці:"
   ]
  },
  {
   "cell_type": "code",
   "execution_count": null,
   "metadata": {
    "pycharm": {
     "name": "#%%\n"
    }
   },
   "outputs": [],
   "source": [
    "execute_query(connection, create_users_table)"
   ]
  },
  {
   "cell_type": "markdown",
   "metadata": {
    "pycharm": {
     "name": "#%% md\n"
    }
   },
   "source": [
    "Таблиця posts:"
   ]
  },
  {
   "cell_type": "code",
   "execution_count": null,
   "metadata": {
    "pycharm": {
     "name": "#%%\n"
    }
   },
   "outputs": [],
   "source": [
    "create_posts_table = \"\"\"\n",
    "CREATE TABLE IF NOT EXISTS posts(\n",
    "  id INTEGER PRIMARY KEY AUTOINCREMENT,\n",
    "  title TEXT NOT NULL,\n",
    "  description TEXT NOT NULL,\n",
    "  user_id INTEGER NOT NULL,\n",
    "  FOREIGN KEY (user_id) REFERENCES users (id)\n",
    ");\n",
    "\"\"\""
   ]
  },
  {
   "cell_type": "markdown",
   "metadata": {
    "pycharm": {
     "name": "#%% md\n"
    }
   },
   "source": [
    "Оскільки ми бачимо відношення \"один-до-багатьох\" між таблицями users і posts, ми створюємо втринний ключ user_id в таблиці posts який пов'язаний з колонкою id таблиці users."
   ]
  },
  {
   "cell_type": "code",
   "execution_count": null,
   "metadata": {
    "pycharm": {
     "name": "#%%\n"
    }
   },
   "outputs": [],
   "source": [
    "execute_query(connection, create_posts_table)"
   ]
  },
  {
   "cell_type": "markdown",
   "metadata": {
    "pycharm": {
     "name": "#%% md\n"
    }
   },
   "source": [
    "Аналогично ми створюємо таблиці comments, likes, emails:"
   ]
  },
  {
   "cell_type": "code",
   "execution_count": null,
   "metadata": {
    "pycharm": {
     "name": "#%%\n"
    }
   },
   "outputs": [],
   "source": [
    "create_comments_table = \"\"\"\n",
    "CREATE TABLE IF NOT EXISTS comments (\n",
    "  id INTEGER PRIMARY KEY AUTOINCREMENT,\n",
    "  text TEXT NOT NULL,\n",
    "  user_id INTEGER NOT NULL,\n",
    "  post_id INTEGER NOT NULL,\n",
    "  FOREIGN KEY (user_id) REFERENCES users (id) FOREIGN KEY (post_id) REFERENCES posts (id)\n",
    ");\n",
    "\"\"\"\n",
    "\n",
    "create_likes_table = \"\"\"\n",
    "CREATE TABLE IF NOT EXISTS likes (\n",
    "  id INTEGER PRIMARY KEY AUTOINCREMENT,\n",
    "  user_id INTEGER NOT NULL,\n",
    "  post_id integer NOT NULL,\n",
    "  FOREIGN KEY (user_id) REFERENCES users (id) FOREIGN KEY (post_id) REFERENCES posts (id)\n",
    ");\n",
    "\"\"\"\n",
    "\n",
    "create_emails_table = \"\"\"\n",
    "CREATE TABLE IF NOT EXISTS emails (\n",
    "    id INTEGER PRIMARY KEY AUTOINCREMENT,\n",
    "    user_id INTEGER NOT NULL,\n",
    "    email TEXT NOT NULL,\n",
    "    FOREIGN KEY (user_id) REFERENCES users (id)\n",
    "\n",
    ");\n",
    "\"\"\"\n",
    "\n",
    "execute_query(connection, create_comments_table)\n",
    "execute_query(connection, create_likes_table)\n",
    "execute_query(connection, create_emails_table)"
   ]
  },
  {
   "cell_type": "markdown",
   "metadata": {
    "pycharm": {
     "name": "#%% md\n"
    }
   },
   "source": [
    "### Вставлення записів\n",
    "\n",
    "Щоб вставити записи в базу даних SQLite, ви можете скористатися тією ж execute_query() функцією, яку використовували для створення таблиць. По-перше, ви повинні зберегти свій INSERT INTO запит у рядку. Потім ви можете передати connection об’єкт і query рядок у execute_query()."
   ]
  },
  {
   "cell_type": "markdown",
   "metadata": {
    "pycharm": {
     "name": "#%% md\n"
    }
   },
   "source": [
    "##### приклад:\n",
    "\n",
    "insert_users = \"\"\"\n",
    "INSERT INTO\n",
    "    users (name, age, gender, nationality)\n",
    "VALUES\n",
    "    (name_1, age_1, gender_1, country_1),\n",
    "    (name_2, age_2, gender_1, country_1),\n",
    "    ...\n",
    "    (name_n, age_n, gender_n, country_n);\n",
    "\"\"\"\n",
    "\n",
    "Замість name_1, age_1, gender_1 і nationality_1 підставляємо конкретні значення атрибутів і передаємо рядок для виконання у створену раніше функцію execute_query() - для виконання нашого запиту.\n",
    "\n",
    "Так само поступаємо і з іншими таблицями. Важливо - всі дані повинні бути узгоджені згідно обмежень - я зараз про вторинні ключі (FOREGIN KEY) і обов'язковість параметрів (NOT NULL).\n",
    "\n",
    "Розберемо на прикладі:\n"
   ]
  },
  {
   "cell_type": "markdown",
   "metadata": {
    "pycharm": {
     "name": "#%% md\n"
    }
   },
   "source": [
    "Для створення фейкових даних для наших таблиць використаемо пакет Faker - [посилання на документацію і приклади використання тут](https://faker.readthedocs.io/en/master/). Звертаю Вашу увагу на те, що цей пакет - зовнішній і потребує попередньої інсталяції ```pip install faker```"
   ]
  },
  {
   "cell_type": "code",
   "execution_count": null,
   "metadata": {
    "pycharm": {
     "name": "#%%\n"
    }
   },
   "outputs": [],
   "source": [
    "from faker import Faker\n",
    "\n",
    "fake = Faker(\"uk_UA\") # створюємо екземпляр з певною локалізацією"
   ]
  },
  {
   "cell_type": "markdown",
   "metadata": {
    "pycharm": {
     "name": "#%% md\n"
    }
   },
   "source": [
    "тепер необхідні фейкові дані можуть створюватися просто:"
   ]
  },
  {
   "cell_type": "code",
   "execution_count": null,
   "metadata": {
    "pycharm": {
     "name": "#%%\n"
    }
   },
   "outputs": [],
   "source": [
    "print(fake.name())\n",
    "print(fake.name_female())\n",
    "print(fake.name_male())\n",
    "print(fake.country())\n",
    "print(fake.email())\n",
    "print(fake.sentence(nb_words=6, variable_nb_words=True))\n",
    "print(fake.paragraph(nb_sentences=4, variable_nb_sentences=True))"
   ]
  },
  {
   "cell_type": "markdown",
   "metadata": {
    "pycharm": {
     "name": "#%% md\n"
    }
   },
   "source": [
    "Для генерації віку людини і створення випадково чоловіків і жінок використаємо можливості вбудованого модулю random"
   ]
  },
  {
   "cell_type": "code",
   "execution_count": null,
   "metadata": {
    "pycharm": {
     "name": "#%%\n"
    }
   },
   "outputs": [],
   "source": [
    "import random\n",
    "print(f\"age: {random.randint(10, 90)}\")\n",
    "gender = \"female\" if random.choice((True, False)) else \"male\"\n",
    "print(gender)"
   ]
  },
  {
   "cell_type": "markdown",
   "metadata": {
    "pycharm": {
     "name": "#%% md\n"
    }
   },
   "source": [
    "Заповнимо таблиці users, emails і posts.\n",
    "Генерацію постів в таблицю posts для кожного користувача будемо робити на основі випадкової вибірки"
   ]
  },
  {
   "cell_type": "code",
   "execution_count": null,
   "metadata": {
    "pycharm": {
     "name": "#%%\n"
    }
   },
   "outputs": [],
   "source": [
    "def user_gen(num: int) -> str:\n",
    "    step = 0\n",
    "    while True:\n",
    "        genger = \"female\" if random.choice((True, False)) else \"male\"\n",
    "        name = fake.name_male() if genger == \"male\" else fake.name_female()\n",
    "        age = random.randint(10, 90)\n",
    "        nationality = fake.country()\n",
    "        yield f\"\"\"(\"{name}\", {age}, \"{genger}\", \"{nationality}\")\"\"\"\n",
    "        step += 1\n",
    "        if step >= num:\n",
    "            break\n",
    "\n",
    "insert_users = \"\"\"\n",
    "    INSERT INTO\n",
    "        users (name, age, gender, nationality)\n",
    "    VALUES\n",
    "\"\"\" + \",\\n\".join(list(user_gen(50))) + \";\"\n",
    "\n",
    "print(insert_users)"
   ]
  },
  {
   "cell_type": "markdown",
   "metadata": {
    "pycharm": {
     "name": "#%% md\n"
    }
   },
   "source": [
    "Тепер ми можемо створити цю таблицю:"
   ]
  },
  {
   "cell_type": "code",
   "execution_count": null,
   "metadata": {
    "pycharm": {
     "name": "#%%\n"
    }
   },
   "outputs": [],
   "source": [
    "execute_query(connection, insert_users)"
   ]
  },
  {
   "cell_type": "markdown",
   "metadata": {
    "pycharm": {
     "name": "#%% md\n"
    }
   },
   "source": [
    "Для створення інших таблиць - нам необхідне значення поля id для кожного конкретного значення запису - бо воно присутне як вторинний ключ. В реальному житті, коли ви заводите користувачів по одному, ви отримуєте і це значення. Ми ж, при створенні фейкової таблиці, після створення таблиці користувачів просто будемо читати її зачення і на їх основі створювати інші таблиці.\n",
    "\n",
    "Зробимо деякі допущення:\n",
    "- для таблиці emails - що у людини може бути від одного нуля до трьох email, причому один буває вчетверо частіше ніж ні одного, чи три, і вдвічі частіше ніх три (це просто допущення, так би мовити - \"їз стелі\"). Кількість email для генерації буде обиратись для кожного користувача за допомогою функції random.choice((0, 1, 1, 1, 1, 2, 2, 3))\n",
    "- кількість постів для конкретної людини будемо випадково обирати random.choice((0, 1, 2, 2, 3, 3, 3, 4, 4, 5, 6, 7))\n",
    "\n",
    "Нам потрібно:\n",
    "- прочитати всі існуючи users.id\n",
    "- ітеруватися по ним та створити рядки для вставки записів у таблиці emails і posts (аналогічно створеним для вставки користувачів)\n",
    "- коли рядки будуть створені - передати їх на виконання\n",
    "\n",
    "#### вибір записів\n",
    "\n",
    "Щоб вибрати записи за допомогою SQLite, ми можемо знову використати cursor.execute(). Однак після того, як ми це зробимо, нам потрібно буде визвати fetchall(). Цей метод повертає список кортежів, де кожен кортеж зіставляється з відповідним рядком у отриманих записах.\n",
    "\n",
    "[Докладніше про fetchall() і інші методи об'єкта _cursor_ ](https://docs.python.org/3/library/sqlite3.html?highlight=fetchall#sqlite3.Cursor.fetchall)\n",
    "\n",
    "Щоб спростити процес, ви можете створити функцію execute_read_query():"
   ]
  },
  {
   "cell_type": "code",
   "execution_count": null,
   "metadata": {
    "pycharm": {
     "name": "#%%\n"
    }
   },
   "outputs": [],
   "source": [
    "def execute_read_query(connection, query):\n",
    "    cursor = connection.cursor()\n",
    "    result = None\n",
    "    try:\n",
    "        cursor.execute(query)\n",
    "        result = cursor.fetchall()\n",
    "        return result\n",
    "    except Error as e:\n",
    "        print(f\"The error '{e}' occurred\")"
   ]
  },
  {
   "cell_type": "markdown",
   "metadata": {
    "pycharm": {
     "name": "#%% md\n"
    }
   },
   "source": [
    "Тепер виберемо всі записи з users таблиці:\n",
    "(Не рекомендується використовувати SELECT * для великих таблиць, оскільки це може призвести до великої кількості операцій вводу/виводу, що збільшує мережевий трафік)"
   ]
  },
  {
   "cell_type": "code",
   "execution_count": null,
   "metadata": {
    "pycharm": {
     "name": "#%%\n"
    }
   },
   "outputs": [],
   "source": [
    "select_users = \"SELECT * from users\"\n",
    "users = execute_read_query(connection, select_users)\n",
    "\n",
    "for user in users:\n",
    "    print(user)"
   ]
  },
  {
   "cell_type": "markdown",
   "metadata": {
    "pycharm": {
     "name": "#%% md\n"
    }
   },
   "source": [
    "Так як нам для формування інших таблиць потрібні тільки id, давайте зробимо запит який вибере тільки їх:"
   ]
  },
  {
   "cell_type": "code",
   "execution_count": null,
   "metadata": {
    "pycharm": {
     "name": "#%%\n"
    }
   },
   "outputs": [],
   "source": [
    "select_users_id = \"SELECT id from users;\"\n",
    "users_id = execute_read_query(connection, select_users_id)\n",
    "\n",
    "for id in users_id:\n",
    "    print(id)"
   ]
  },
  {
   "cell_type": "markdown",
   "metadata": {
    "pycharm": {
     "name": "#%% md\n"
    }
   },
   "source": [
    "Тепер ми можемо створити таблиці emails і posts:"
   ]
  },
  {
   "cell_type": "code",
   "execution_count": null,
   "metadata": {
    "pycharm": {
     "name": "#%%\n"
    }
   },
   "outputs": [],
   "source": [
    "email_list = []\n",
    "post_list = []\n",
    "for id_user in users_id:\n",
    "    email_list.extend(\n",
    "        [f\"({id_user[0]}, '{fake.email()}')\" for _ in range(random.choice((0, 1, 1, 1, 1, 2, 2, 3)))]\n",
    "    )\n",
    "    post_list.extend(\n",
    "        [\n",
    "            f\"('{fake.sentence(nb_words=6, variable_nb_words=True)}', '{fake.paragraph(nb_sentences=4, variable_nb_sentences=True)}', {id_user[0]})\" for _ in range(random.choice((0, 1, 2, 2, 3, 3, 3, 4, 4, 5, 6, 7)))\n",
    "        ]\n",
    "    )\n",
    "\n",
    "print(email_list)\n",
    "print(post_list)"
   ]
  },
  {
   "cell_type": "markdown",
   "metadata": {
    "pycharm": {
     "name": "#%% md\n"
    }
   },
   "source": [
    "Тепер, коли у нас е інформація для вставки у таблиці, створимо необхідні рядки:"
   ]
  },
  {
   "cell_type": "code",
   "execution_count": null,
   "metadata": {
    "pycharm": {
     "name": "#%%\n"
    }
   },
   "outputs": [],
   "source": [
    "insert_emails = \"\"\"\n",
    "    INSERT INTO\n",
    "        emails (user_id, email)\n",
    "    VALUES\n",
    "\"\"\" + \",\\n\".join(email_list) + \";\"\n",
    "\n",
    "insert_posts = \"\"\"\n",
    "    INSERT INTO\n",
    "        posts (title, description, user_id)\n",
    "    VALUES\n",
    "\"\"\" + \",\\n\".join(post_list) + \";\"\n",
    "\n",
    "\n",
    "print(insert_emails)\n",
    "print(insert_posts)"
   ]
  },
  {
   "cell_type": "code",
   "execution_count": null,
   "metadata": {
    "pycharm": {
     "name": "#%%\n"
    }
   },
   "outputs": [],
   "source": [
    "execute_query(connection, insert_emails)\n",
    "execute_query(connection, insert_posts)"
   ]
  },
  {
   "cell_type": "markdown",
   "metadata": {
    "pycharm": {
     "name": "#%% md\n"
    }
   },
   "source": [
    "Тепер, коли у нас є повні таблиці users і posts (а значить ми можемо отримати users.id і posts.id, які входять в таблиці likes і comments  як вторинні ключі - FOREGIN KEY). Все аналогічно попередній ситуації, але нам потрібні первинні ключі (PRIMARY KEY) не тільки для users, а і для posts.\n",
    "\n",
    "Будемо вважати, що для кожного поста може бути\n",
    "\n",
    "likes_num = random.choice((2, 3, 4, 4, 5, 5, 6, 7, 8, 9, 10, 11, 12)) лайків і\n",
    "\n",
    "comments_num = random.choice((0, 1, 2, 2, 3, 4)) коментарі.\n",
    "\n",
    "Для того, щоб обрати користувачів, які зробили відповідну кількість лайків або постів, будемо робити\n",
    "\n",
    "users_who_liked = random.choices(users_id, likes_num)\n",
    "\n",
    "users_who_commented = random.choices(users_id, comments_num)\n"
   ]
  },
  {
   "cell_type": "markdown",
   "metadata": {
    "pycharm": {
     "name": "#%% md\n"
    }
   },
   "source": [
    "Отримаємо список всіх posts_id (прочитаємо аналогічно users_id):"
   ]
  },
  {
   "cell_type": "code",
   "execution_count": null,
   "metadata": {
    "pycharm": {
     "name": "#%%\n"
    }
   },
   "outputs": [],
   "source": [
    "select_posts_id = \"SELECT id from posts;\"\n",
    "posts_id = execute_read_query(connection, select_posts_id)\n",
    "\n",
    "for id in posts_id:\n",
    "    print(id)"
   ]
  },
  {
   "cell_type": "markdown",
   "metadata": {
    "pycharm": {
     "name": "#%% md\n"
    }
   },
   "source": [
    "Тепер ми можемо створювати пости і лайки ітеруючись по списку posts_id"
   ]
  },
  {
   "cell_type": "code",
   "execution_count": null,
   "metadata": {
    "pycharm": {
     "name": "#%%\n"
    }
   },
   "outputs": [],
   "source": [
    "comments_list = []\n",
    "likes_list = []\n",
    "for post_id in posts_id:\n",
    "    # отримаємо кількість коментарів під постом\n",
    "    comments_num = random.choice((0, 1, 2, 2, 3, 4))\n",
    "    # отримаємо список користувачів, які створювали ці коментарі\n",
    "    users_who_commented = random.choices(users_id, k=comments_num)\n",
    "    # створюємо список кортежів для рядка вставки інформації у БД\n",
    "    for i in range(comments_num):\n",
    "        comments_list.append(f\"('{fake.sentence(nb_words=6, variable_nb_words=True)}', {users_who_commented[i][0]}, {post_id[0]})\")\n",
    "\n",
    "    # отримаємо кількість лайків під постом\n",
    "    likes_num = random.choice((2, 3, 4, 4, 5, 5, 6, 7, 8, 9, 10, 11, 12))\n",
    "    # отримаємо список користувачів, які лайкали\n",
    "    users_who_liked = random.choices(users_id, k=likes_num)\n",
    "    # створюємо список кортежів для рядка вставки інформації у БД\n",
    "    for i in range(likes_num):\n",
    "        likes_list.append(f\"({users_who_liked[i][0]}, {post_id[0]})\")\n",
    "\n",
    "print(comments_list)\n",
    "print(likes_list)"
   ]
  },
  {
   "cell_type": "code",
   "execution_count": null,
   "metadata": {
    "pycharm": {
     "name": "#%%\n"
    }
   },
   "outputs": [],
   "source": [
    "insert_comments = \"\"\"\n",
    "    INSERT INTO\n",
    "        comments (text, user_id, post_id)\n",
    "    VALUES\n",
    "\"\"\" + \",\\n\".join(comments_list) + \";\"\n",
    "\n",
    "insert_likes = \"\"\"\n",
    "    INSERT INTO\n",
    "        likes (user_id, post_id)\n",
    "    VALUES\n",
    "\"\"\" + \",\\n\".join(likes_list) + \";\"\n",
    "\n",
    "print(insert_comments)\n",
    "print(insert_likes)"
   ]
  },
  {
   "cell_type": "code",
   "execution_count": null,
   "metadata": {
    "pycharm": {
     "name": "#%%\n"
    }
   },
   "outputs": [],
   "source": [
    "execute_query(connection, insert_comments)\n",
    "execute_query(connection, insert_likes)"
   ]
  },
  {
   "cell_type": "markdown",
   "source": [
    "---\n",
    "## Я вітаю всіх нас - наша база даних створена!!!\n",
    "\n",
    "##### ми завершили перший день вебінара\n",
    "---"
   ],
   "metadata": {
    "collapsed": false,
    "pycharm": {
     "name": "#%% md\n"
    }
   }
  },
  {
   "cell_type": "markdown",
   "source": [
    "## Другий день.\n",
    "\n",
    "#### Повна виборка"
   ],
   "metadata": {
    "collapsed": false,
    "pycharm": {
     "name": "#%% md\n"
    }
   }
  },
  {
   "cell_type": "code",
   "execution_count": null,
   "outputs": [],
   "source": [
    "users_full_data_sample = \"\"\"\n",
    "SELECT * FROM users;\n",
    "\"\"\""
   ],
   "metadata": {
    "collapsed": false,
    "pycharm": {
     "name": "#%%\n"
    }
   }
  },
  {
   "cell_type": "code",
   "execution_count": null,
   "outputs": [],
   "source": [
    "users_full_sample = execute_read_query(connection, users_full_data_sample)\n",
    "print(users_full_sample)"
   ],
   "metadata": {
    "collapsed": false,
    "pycharm": {
     "name": "#%%\n"
    }
   }
  },
  {
   "cell_type": "markdown",
   "source": [
    "#### Виборка конкретного набора атрибутів"
   ],
   "metadata": {
    "collapsed": false,
    "pycharm": {
     "name": "#%% md\n"
    }
   }
  },
  {
   "cell_type": "code",
   "execution_count": null,
   "outputs": [],
   "source": [
    "users_full_data_sample_set_attributes = \"\"\"\n",
    "SELECT id, name FROM users;\n",
    "\"\"\""
   ],
   "metadata": {
    "collapsed": false,
    "pycharm": {
     "name": "#%%\n"
    }
   }
  },
  {
   "cell_type": "code",
   "execution_count": null,
   "outputs": [],
   "source": [
    "users_full_sample_set_atr = execute_read_query(connection, users_full_data_sample_set_attributes)\n",
    "print(users_full_sample_set_atr)"
   ],
   "metadata": {
    "collapsed": false,
    "pycharm": {
     "name": "#%%\n"
    }
   }
  },
  {
   "cell_type": "markdown",
   "source": [
    "#### Прості математичні операції\n",
    "\n",
    "- додавання         \"+\"\n",
    "- віднімання        \"-\"\n",
    "- множення          \"*\"\n",
    "- поділ             \"/\"\n",
    "\n",
    "Доречі - є досить багато вбудованих функцій - [опис тут](https://www.sqlite.org/lang_mathfunc.html) - які можна використовувати аналогічно."
   ],
   "metadata": {
    "collapsed": false,
    "pycharm": {
     "name": "#%% md\n"
    }
   }
  },
  {
   "cell_type": "code",
   "execution_count": null,
   "outputs": [],
   "source": [
    "operation_query = \"\"\"\n",
    "SELECT name, id + age, id * age, pow(id, age)\n",
    "FROM users;\n",
    "\"\"\""
   ],
   "metadata": {
    "collapsed": false,
    "pycharm": {
     "name": "#%%\n"
    }
   }
  },
  {
   "cell_type": "code",
   "execution_count": null,
   "outputs": [],
   "source": [
    "operation_result = execute_read_query(connection, operation_query)\n",
    "print(operation_result)"
   ],
   "metadata": {
    "collapsed": false,
    "pycharm": {
     "name": "#%%\n"
    }
   }
  },
  {
   "cell_type": "markdown",
   "source": [
    "#### DISTINCT\n",
    "\n",
    "вибрати унікальні рядки\n",
    "\n",
    "(наприклад - ми хочемо мати список країн в яких живуть зараз наші користувачі)\n",
    "\n",
    "ВАЖЛИВО! Якщо ми вибираємо декілька атрибутів - то у виборку попадуть лише унікальні комбінації"
   ],
   "metadata": {
    "collapsed": false,
    "pycharm": {
     "name": "#%% md\n"
    }
   }
  },
  {
   "cell_type": "code",
   "execution_count": null,
   "outputs": [],
   "source": [
    "distinct_query = \"\"\"\n",
    "SELECT DISTINCT nationality\n",
    "FROM users;\n",
    "\"\"\""
   ],
   "metadata": {
    "collapsed": false,
    "pycharm": {
     "name": "#%%\n"
    }
   }
  },
  {
   "cell_type": "code",
   "execution_count": null,
   "outputs": [],
   "source": [
    "distinct_result = execute_read_query(connection, distinct_query)\n",
    "print(distinct_result)"
   ],
   "metadata": {
    "collapsed": false,
    "pycharm": {
     "name": "#%%\n"
    }
   }
  },
  {
   "cell_type": "markdown",
   "source": [
    "#### COUNT\n",
    "\n",
    "підрахунок кількості отриманих у виборці рядків\n",
    "\n",
    "важливо розуміти, що COUNT лише рахує рядки. Якщо необхідно підрахувати унікальні рядки - необхідно комбінувати з DISTINCT\n"
   ],
   "metadata": {
    "collapsed": false,
    "pycharm": {
     "name": "#%% md\n"
    }
   }
  },
  {
   "cell_type": "code",
   "execution_count": null,
   "outputs": [],
   "source": [
    "count_query = \"\"\"\n",
    "SELECT COUNT(DISTINCT nationality)\n",
    "FROM users;\n",
    "\"\"\""
   ],
   "metadata": {
    "collapsed": false,
    "pycharm": {
     "name": "#%%\n"
    }
   }
  },
  {
   "cell_type": "code",
   "execution_count": null,
   "outputs": [],
   "source": [
    "count_result = execute_read_query(connection, count_query)\n",
    "print(count_result)"
   ],
   "metadata": {
    "collapsed": false,
    "pycharm": {
     "name": "#%%\n"
    }
   }
  },
  {
   "cell_type": "markdown",
   "source": [
    "#### WHERE\n",
    "\n",
    "фільтуємо дані по умові\n",
    "\n",
    "Формат:\n",
    "```SQL\n",
    "SELECT <*>\n",
    "FROM <table_name>\n",
    "WHERE <condition>;\n",
    "```\n",
    "\n",
    "condition ---> boolean result\n",
    "\n",
    "В фінальний набір попадають рядки, для яких умова буде мати значення true\n",
    "\n",
    "Наприклад, можливі умови (можуть бути й інші):\n",
    "- a = b\n",
    "- a > b\n",
    "- a >= b\n",
    "- a < b\n",
    "- a <= b\n",
    "- a != b"
   ],
   "metadata": {
    "collapsed": false,
    "pycharm": {
     "name": "#%% md\n"
    }
   }
  },
  {
   "cell_type": "code",
   "execution_count": null,
   "outputs": [],
   "source": [
    "where_query = \"\"\"\n",
    "SELECT id, name, age\n",
    "FROM users\n",
    "WHERE age > 40;\n",
    "\"\"\""
   ],
   "metadata": {
    "collapsed": false,
    "pycharm": {
     "name": "#%%\n"
    }
   }
  },
  {
   "cell_type": "code",
   "execution_count": null,
   "outputs": [],
   "source": [
    "where_result = execute_read_query(connection, where_query)\n",
    "print(where_result)"
   ],
   "metadata": {
    "collapsed": false,
    "pycharm": {
     "name": "#%%\n"
    }
   }
  },
  {
   "cell_type": "markdown",
   "source": [
    "Все, що ми вивчили раніше - тако ж можливо використовувати.\n",
    "Давайте сформуємо запит який поверне нам кількість людей з віком більше 40 років:"
   ],
   "metadata": {
    "collapsed": false,
    "pycharm": {
     "name": "#%% md\n"
    }
   }
  },
  {
   "cell_type": "code",
   "execution_count": null,
   "outputs": [],
   "source": [
    "where_count_query = \"\"\"\n",
    "SELECT COUNT(*)\n",
    "FROM users\n",
    "WHERE age > 40;\n",
    "\"\"\""
   ],
   "metadata": {
    "collapsed": false,
    "pycharm": {
     "name": "#%%\n"
    }
   }
  },
  {
   "cell_type": "code",
   "execution_count": null,
   "outputs": [],
   "source": [
    "where_count_result = execute_read_query(connection, where_count_query)\n",
    "print(where_count_result)"
   ],
   "metadata": {
    "collapsed": false,
    "pycharm": {
     "name": "#%%\n"
    }
   }
  },
  {
   "cell_type": "markdown",
   "source": [
    "#### AND, OR\n",
    "\n",
    "комбінація умов\n",
    "\n",
    "```SQL\n",
    "SELECT <*>\n",
    "FROM <table_name>\n",
    "WHERE <condition_1> AND|OR <condition_2>;\n",
    "```"
   ],
   "metadata": {
    "collapsed": false,
    "pycharm": {
     "name": "#%% md\n"
    }
   }
  },
  {
   "cell_type": "code",
   "execution_count": null,
   "outputs": [],
   "source": [
    "and_or_query = \"\"\"\n",
    "SELECT id, name\n",
    "FROM users\n",
    "WHERE age > 40 AND age < 50;\n",
    "\"\"\""
   ],
   "metadata": {
    "collapsed": false,
    "pycharm": {
     "name": "#%%\n"
    }
   }
  },
  {
   "cell_type": "code",
   "execution_count": null,
   "outputs": [],
   "source": [
    "and_or_result = execute_read_query(connection, and_or_query)\n",
    "print(and_or_result)"
   ],
   "metadata": {
    "collapsed": false,
    "pycharm": {
     "name": "#%%\n"
    }
   }
  },
  {
   "cell_type": "markdown",
   "source": [
    "#### BETWEEN\n",
    "\n",
    "Важливо пам'ятати - границі включають в інтервал, тобто це еквівалент\n",
    "age BETWEEN 40 AND 50 еквівалентно age >= 40 AND age <= 50"
   ],
   "metadata": {
    "collapsed": false,
    "pycharm": {
     "name": "#%% md\n"
    }
   }
  },
  {
   "cell_type": "code",
   "execution_count": null,
   "outputs": [],
   "source": [
    "between_query = \"\"\"\n",
    "SELECT id, name\n",
    "FROM users\n",
    "WHERE age BETWEEN 40 AND 50;\n",
    "\"\"\""
   ],
   "metadata": {
    "collapsed": false,
    "pycharm": {
     "name": "#%%\n"
    }
   }
  },
  {
   "cell_type": "code",
   "execution_count": null,
   "outputs": [],
   "source": [
    "between_result = execute_read_query(connection, between_query)\n",
    "print(between_result)"
   ],
   "metadata": {
    "collapsed": false,
    "pycharm": {
     "name": "#%%\n"
    }
   }
  },
  {
   "cell_type": "markdown",
   "source": [
    "#### IN, NOT IN\n",
    "\n"
   ],
   "metadata": {
    "collapsed": false,
    "pycharm": {
     "name": "#%% md\n"
    }
   }
  },
  {
   "cell_type": "code",
   "execution_count": null,
   "outputs": [],
   "source": [
    "in_not_in_query = \"\"\"\n",
    "SELECT id, name\n",
    "FROM users\n",
    "WHERE nationality IN ('Нікарагуа', 'Чорногорія', 'Чад');\n",
    "\"\"\""
   ],
   "metadata": {
    "collapsed": false,
    "pycharm": {
     "name": "#%%\n"
    }
   }
  },
  {
   "cell_type": "code",
   "execution_count": null,
   "outputs": [],
   "source": [
    "in_not_in_result = execute_read_query(connection, in_not_in_query)\n",
    "print(in_not_in_result)"
   ],
   "metadata": {
    "collapsed": false,
    "pycharm": {
     "name": "#%%\n"
    }
   }
  },
  {
   "cell_type": "markdown",
   "source": [
    "#### ORDER BY\n",
    "\n",
    "впорядкування результатів\n",
    "\n",
    "ASC (за замовченням) - за зростанням\n",
    "DESC - за зменшенням\n",
    "\n",
    "Можливо сортування за декількома атрибутами"
   ],
   "metadata": {
    "collapsed": false,
    "pycharm": {
     "name": "#%% md\n"
    }
   }
  },
  {
   "cell_type": "code",
   "execution_count": null,
   "outputs": [],
   "source": [
    "order_by_query = \"\"\"\n",
    "SELECT id, name, age, nationality\n",
    "FROM users\n",
    "WHERE age > 25\n",
    "ORDER BY age DESC, nationality\n",
    "\"\"\""
   ],
   "metadata": {
    "collapsed": false,
    "pycharm": {
     "name": "#%%\n"
    }
   }
  },
  {
   "cell_type": "code",
   "execution_count": null,
   "outputs": [],
   "source": [
    "order_by_result = execute_read_query(connection, order_by_query)\n",
    "print(order_by_result)"
   ],
   "metadata": {
    "collapsed": false,
    "pycharm": {
     "name": "#%%\n"
    }
   }
  },
  {
   "cell_type": "markdown",
   "source": [
    "#### MIN, MAX, AVG\n",
    "\n"
   ],
   "metadata": {
    "collapsed": false,
    "pycharm": {
     "name": "#%% md\n"
    }
   }
  },
  {
   "cell_type": "code",
   "execution_count": null,
   "outputs": [],
   "source": [
    "min_max_avg_query = \"\"\"\n",
    "SELECT MIN(age)\n",
    "FROM users\n",
    "WHERE nationality NOT IN ('Чад')\n",
    "\"\"\""
   ],
   "metadata": {
    "collapsed": false,
    "pycharm": {
     "name": "#%%\n"
    }
   }
  },
  {
   "cell_type": "code",
   "execution_count": null,
   "outputs": [],
   "source": [
    "min_max_avg_result = execute_read_query(connection, min_max_avg_query)\n",
    "print(min_max_avg_result)"
   ],
   "metadata": {
    "collapsed": false,
    "pycharm": {
     "name": "#%%\n"
    }
   }
  },
  {
   "cell_type": "markdown",
   "source": [
    "#### LIKE\n",
    "\n",
    "відповідність шаблону\n",
    "\n",
    "SQL надає нам два символа підстановки:\n",
    "\n",
    "% - означає 0б 1 або більше будь яких символів\n",
    "\n",
    "_ - означає один будь який символ\n",
    "\n",
    "Приклад:\n",
    "- LIKE 'AA%' - рядки, які починаються з двох символів A\n",
    "- LIKE '%AA' - рядки, які закінчуються двома символами A\n",
    "- LIKE '%Марія%' - рядки які включають в собі субрядок 'Марія'\n",
    "- LIKE 'www._%.__' - рядок, який починається з www. далі один, або більше символів до крапки (але хочаб один), крапка і два будь-яких символа в кінці"
   ],
   "metadata": {
    "collapsed": false,
    "pycharm": {
     "name": "#%% md\n"
    }
   }
  },
  {
   "cell_type": "code",
   "execution_count": null,
   "outputs": [],
   "source": [
    "like_query = \"\"\"\n",
    "SELECT id, name, nationality\n",
    "FROM users\n",
    "WHERE name LIKE '%Дмитро%'\n",
    "\"\"\""
   ],
   "metadata": {
    "collapsed": false,
    "pycharm": {
     "name": "#%%\n"
    }
   }
  },
  {
   "cell_type": "code",
   "execution_count": null,
   "outputs": [],
   "source": [
    "like_result = execute_read_query(connection, like_query)\n",
    "print(like_result)"
   ],
   "metadata": {
    "collapsed": false,
    "pycharm": {
     "name": "#%%\n"
    }
   }
  },
  {
   "cell_type": "markdown",
   "source": [
    "#### GROUP BY\n",
    "\n",
    "дає можливість згрупувати результати запиту за якимось з атрибутів\n",
    "\n",
    "знаходиться перед ORDER BY (якщо є) і після WHERE (звісно, якщо є)"
   ],
   "metadata": {
    "collapsed": false,
    "pycharm": {
     "name": "#%% md\n"
    }
   }
  },
  {
   "cell_type": "code",
   "execution_count": null,
   "outputs": [],
   "source": [
    "like_query = \"\"\"\n",
    "SELECT id, name, nationality\n",
    "FROM users\n",
    "WHERE name LIKE '%Дмитро%'\n",
    "\"\"\""
   ],
   "metadata": {
    "collapsed": false,
    "pycharm": {
     "name": "#%%\n"
    }
   }
  },
  {
   "cell_type": "code",
   "execution_count": null,
   "outputs": [],
   "source": [
    "like_result = execute_read_query(connection, like_query)\n",
    "print(like_result)"
   ],
   "metadata": {
    "collapsed": false,
    "pycharm": {
     "name": "#%%\n"
    }
   }
  },
  {
   "cell_type": "markdown",
   "source": [
    "#### JOIN - поєднання таблиць\n",
    "\n",
    "До цього ми з Вами працювали лише з однією таблицею. Але - це на завжди зручно і можливість мати поєднання декількох таблиць для отримання фінального результату - це потужна річ, яка забезпечується оператором JOIN. Докладно про особливості використання JOIN в SQLite - [тут](https://www.sqlite.org/optoverview.html#joins).\n",
    "\n",
    "Якщо просто - ця операція дає можливість поєднати декілька таблиць у одну велику таблицю за якимось правилом. Перд тім як ми перейдемо до коду - які бувають поєднання (ми зараз не про всі можливі, а про ті які вживаються частіше).\n",
    "\n",
    "Правило поєднання - це відповідність атрибута однієї таблиці атрибуту іншої таблиці. Наприклад - у нас є users.id (це первинний ключ для таблиці users) і в таблиці emails є атрибут user_id - (вторинний ключ, який посилається на id таблиці users). Ми можемо поєднати users і emails за принципом users.id = emails.user_id. Трохи докладніше розберемо на прикладі далі.\n",
    "\n",
    "![як працює JOIN](media/sql-table-joins.png)\n",
    "\n",
    "У кожній операції поєднання таблиць беруть участь дві таблиці - \"ліва\" і \"права\" (звісно ми можемо виконати декілька операцій об'єднання таблиць підряд і поєднати більше ніж дві таблиці, але навчатись краще на прикладі з лише двома таблицями). Операція приєднання - не симетрична, тобто результат може залежати від \"зміни місць\".\n",
    "\n",
    "---\n",
    "\n",
    "#### INNER JOIN\n",
    "\n",
    "- в результаті будуть тільки ті рядки, для яких той самий принцип поєднання, за яким ми приєдуємо таблиці, присутній для двох таблиць. Уявимо що ми приєднуємо до users (\"ліва таблиця\") таблицю emails (\"права таблиця\") за принципом users.id == emails.user_id.\n",
    "Як при цьому працює поєднання?\n",
    "1) Береться рядок з \"лівої\" таблиці і СУБД дивиться - чи є у нього атрибут id (в нашому випадку він точно буде - так як це первинний ключ який завжди є. Але поєднувати таблиці можливо по будь-яким атрибутам. Тобто - це можуть бути і атрибути які можуть не мати значення в частині випадків - тобто значення NULL - \"нічого\").\n",
    "Якщо атрибута такого немає, то цей рядок відкидається і не попадає у фінальний набір. Переходимо до іншого рядка \"лівої\" таблиці.\n",
    "2) Якщо у рядка \"лівої\" таблиці є атрибут для поєднання, то починаємо дивитись рядки \"правої\" таблиці. Дивимось саме той атрибут, по якому ця таблиця повинна бути приєднана до \"лівої\". В нашому випадку - це атрибут email.user_id. Як тільки знаходиться рядок, для якого умова поєднання True (тобто users.id == emails.user_id - поєднаний рядок (атрибути з таблиці users з рядка першого кроку) + атрибути знайденого рядка з таблиці emails на цьому кроці включається в фінальний набір.\n",
    "3) Переходять до інших рядків \"правої\" таблиці. Якщо знову находять рядок в цій таблиці, для якого атрибут приєднання (в нашому випадку emails.user_id) дорівнює знайденому на кроці 1 атрибуту таблиці users - users.id, то і ці рядки включаються до фінального набору. Ми ж Вами розуміємо, що\n",
    "Давайте розберемо це глибше - тобто в цьому разі наш поєднаний рядок ПОВТОРИТЬ всі атрибути з таблиці users (той рядок, який ми обрали на етапі 1 і він став першою частиною результата на етапі 2) і додасть до нього атрибути з рядка таблиці emails, який ми знайшли на цьому кроці.\n",
    "4) Що буде - якщо для атрибута user.id рядка, який ми обрали на першому етапі ми не знайдемо ні однієї відповідності атрибуту emails.user_id з таблиці emails? Рядок з таблиці НЕ БУДЕ ВКЛЮЧЕНО до фінального набору.\n",
    "\n",
    "Тобто - при використанні INNER JOIN у фінальну вибірку включаються лише ті рядки з обох таблиць, для яких ОБОВ'ЯЗКОВО є виконання умови поєднання."
   ],
   "metadata": {
    "collapsed": false,
    "pycharm": {
     "name": "#%% md\n"
    }
   }
  },
  {
   "cell_type": "code",
   "execution_count": null,
   "outputs": [],
   "source": [
    "inner_join_query = \"\"\"\n",
    "SELECT users.id, name, nationality, email\n",
    "FROM users\n",
    "INNER JOIN emails ON users.id = emails.user_id\n",
    "WHERE name LIKE '%Дмитро%'\n",
    "\"\"\""
   ],
   "metadata": {
    "collapsed": false,
    "pycharm": {
     "name": "#%%\n"
    }
   }
  },
  {
   "cell_type": "code",
   "execution_count": null,
   "outputs": [],
   "source": [
    "inner_join_result = execute_read_query(connection, inner_join_query)\n",
    "print(inner_join_result)"
   ],
   "metadata": {
    "collapsed": false,
    "pycharm": {
     "name": "#%%\n"
    }
   }
  },
  {
   "cell_type": "markdown",
   "source": [
    "---\n",
    "\n",
    "#### OUTER JOIN (LEFT JOIN, RIGHT JOIN)\n",
    "\n",
    "Давайте уявимо що ми хочемо вивести таблицю яка буде включати ВСІХ наших користувачів з їх e-mail. Для нас нен підійде поєднання INNER JOIN. Тому що там можуть бути не всі користувачі. Передивіться крок 4 попереднього пояснення - якщо для якогось користувача не буде ні одного email - то цей користувач не буде включений у фінальний результат.\n",
    "\n",
    "В цьому випадку необхідно використовувати OUTER JOIN - в одному із його варіантів - LEFT JOIN або RIGHT JOIN (трошки пізніше - про різницю між ними).\n",
    "\n",
    "Алгоритм включення рядків до фінального результату - інший. Коротко:\n",
    "- для LEFT JOIN\n",
    "    - беремо рядок \"лівої таблиці\" (в нашому випадку це users). Для атрибута приеднання (в нашому випадку - users.id) в \"правій таблиці\" (в нашому випадку - emails) починаємо шукати співпадіння з її атрибутом приеднання (в нашому випадку emails.user_id). Якщо співпадіння є - включаемо поєднаний рядок у фінальний результат. Якщо співпадіння немає - ми все одно включаємо в фінальний результат поєднаний рядок, але всі атрибути з \"правої таблиці\" (в нашому випадку - emails) які повинні війти у фінальний результат, заповнюемо значенням NULL (\"нічого немає\").\n",
    "- для RIGHT JOIN\n",
    "    - все теж саме, що і для LEFT JOIN, але в якості \"лівої таблиці\" - тобто тієї, з якої всі рядки попадуть у фінальний результат, береться та, що стоїть справа))). Тобто - те ж саме, просто погляд з іншого боку. Якщо просто поміняти таблиці у виразі містами і використати LEFT JOIN - буде те ж саме що не міняти і виконати RIGHT JOIN.\n"
   ],
   "metadata": {
    "collapsed": false,
    "pycharm": {
     "name": "#%% md\n"
    }
   }
  },
  {
   "cell_type": "code",
   "execution_count": null,
   "outputs": [],
   "source": [
    "outer_join_query = \"\"\"\n",
    "SELECT users.id, name, nationality, email\n",
    "FROM users\n",
    "LEFT JOIN emails ON users.id = emails.user_id\n",
    "WHERE emails.email IS NULL\n",
    "\"\"\""
   ],
   "metadata": {
    "collapsed": false,
    "pycharm": {
     "name": "#%%\n"
    }
   }
  },
  {
   "cell_type": "code",
   "execution_count": null,
   "outputs": [],
   "source": [
    "outer_join_result = execute_read_query(connection, outer_join_query)\n",
    "print(outer_join_result)"
   ],
   "metadata": {
    "collapsed": false,
    "pycharm": {
     "name": "#%%\n"
    }
   }
  },
  {
   "cell_type": "markdown",
   "source": [
    "#### FULL JOIN (SQLite не підтримує, але)\n",
    "\n",
    "Після вивчення LEFT JOIN і RIGHT JOIN тут все просто. У фінальний результат включаються ВСІ рядки з обох таблиць - і з \"лівої таблиці\" і з \"правої\". Якщо в якихось випадках вираз поєднання (left_table.attribute_X == right_table.attribute_Y) має значення False (тобто для якогось рядка немає відповідного по цій парі атрибутів рядка з іншої таблиці) - то рядки все одно вносяться у фінальний результат, але там де немає відповідності - атрибути заповнюються значенням NULL. Тобто - це симетрична операція, і в загальному випадку у фінальному результаті будуть атрибути із значенням NULL як у правій частині фінального результату, так і в лівій.\n"
   ],
   "metadata": {
    "collapsed": false,
    "pycharm": {
     "name": "#%% md\n"
    }
   }
  },
  {
   "cell_type": "code",
   "execution_count": null,
   "outputs": [],
   "source": [
    "full_join_query = \"\"\"\n",
    "SELECT users.id, name, nationality, email\n",
    "FROM users\n",
    "FULL JOIN emails ON users.id = emails.user_id\n",
    "ORDER BY name\n",
    "\"\"\""
   ],
   "metadata": {
    "collapsed": false,
    "pycharm": {
     "name": "#%%\n"
    }
   }
  },
  {
   "cell_type": "code",
   "execution_count": null,
   "outputs": [],
   "source": [
    "full_join_result = execute_read_query(connection, full_join_query)\n",
    "print(full_join_result)"
   ],
   "metadata": {
    "collapsed": false,
    "pycharm": {
     "name": "#%%\n"
    }
   }
  },
  {
   "cell_type": "code",
   "execution_count": null,
   "outputs": [],
   "source": [
    "composite_full_join_query = \"\"\"\n",
    "SELECT users.id, name, nationality, email\n",
    "FROM   users\n",
    "       LEFT JOIN emails\n",
    "          ON users.id = emails.user_id\n",
    "UNION ALL\n",
    "SELECT users.id, name, nationality, email\n",
    "FROM   emails\n",
    "       LEFT JOIN users\n",
    "          ON emails.user_id = users.id\n",
    "ORDER BY name\n",
    "\"\"\""
   ],
   "metadata": {
    "collapsed": false,
    "pycharm": {
     "name": "#%%\n"
    }
   }
  },
  {
   "cell_type": "code",
   "execution_count": null,
   "outputs": [],
   "source": [
    "composite_full_join_result = execute_read_query(connection, composite_full_join_query)\n",
    "print(composite_full_join_result)"
   ],
   "metadata": {
    "collapsed": false,
    "pycharm": {
     "name": "#%%\n"
    }
   }
  },
  {
   "cell_type": "code",
   "execution_count": null,
   "outputs": [],
   "source": [],
   "metadata": {
    "collapsed": false,
    "pycharm": {
     "name": "#%%\n"
    }
   }
  }
 ],
 "metadata": {
  "kernelspec": {
   "display_name": "Python 3 (ipykernel)",
   "language": "python",
   "name": "python3"
  },
  "language_info": {
   "codemirror_mode": {
    "name": "ipython",
    "version": 3
   },
   "file_extension": ".py",
   "mimetype": "text/x-python",
   "name": "python",
   "nbconvert_exporter": "python",
   "pygments_lexer": "ipython3",
   "version": "3.10.8"
  }
 },
 "nbformat": 4,
 "nbformat_minor": 1
}